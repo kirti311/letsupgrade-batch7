{
  "nbformat": 4,
  "nbformat_minor": 0,
  "metadata": {
    "colab": {
      "name": "Day 9.pynb",
      "provenance": [],
      "authorship_tag": "ABX9TyM8kgBatVMGDWPgFRUOfP0o",
      "include_colab_link": true
    },
    "kernelspec": {
      "name": "python3",
      "display_name": "Python 3"
    }
  },
  "cells": [
    {
      "cell_type": "markdown",
      "metadata": {
        "id": "view-in-github",
        "colab_type": "text"
      },
      "source": [
        "<a href=\"https://colab.research.google.com/github/kirti311/letsupgrade-batch7/blob/master/Day_9_pynb.ipynb\" target=\"_parent\"><img src=\"https://colab.research.google.com/assets/colab-badge.svg\" alt=\"Open In Colab\"/></a>"
      ]
    },
    {
      "cell_type": "code",
      "metadata": {
        "id": "M-AhkXerA6Dm",
        "colab_type": "code",
        "colab": {}
      },
      "source": [
        "def fib(limit):\n",
        "  a,b = 1,1000\n",
        "  while a< limit:\n",
        "       yield a\n",
        "       a,b=b,a+b"
      ],
      "execution_count": 6,
      "outputs": []
    },
    {
      "cell_type": "code",
      "metadata": {
        "id": "lIFmfveOBay7",
        "colab_type": "code",
        "colab": {
          "base_uri": "https://localhost:8080/",
          "height": 54
        },
        "outputId": "4e1ca8b6-f617-49b1-e6ea-3c31b156851b"
      },
      "source": [
        "X=fib(2)\n",
        "print (X)"
      ],
      "execution_count": 7,
      "outputs": [
        {
          "output_type": "stream",
          "text": [
            "<generator object fib at 0x7f2795153b48>\n"
          ],
          "name": "stdout"
        }
      ]
    },
    {
      "cell_type": "code",
      "metadata": {
        "id": "gvISIouXCSe7",
        "colab_type": "code",
        "colab": {
          "base_uri": "https://localhost:8080/",
          "height": 54
        },
        "outputId": "05f0727a-60d4-4ec7-c1d4-a26abc259e50"
      },
      "source": [
        "print(fib(3))"
      ],
      "execution_count": 9,
      "outputs": [
        {
          "output_type": "stream",
          "text": [
            "<generator object fib at 0x7f2795153db0>\n"
          ],
          "name": "stdout"
        }
      ]
    }
  ]
}