{
  "nbformat": 4,
  "nbformat_minor": 0,
  "metadata": {
    "colab": {
      "name": "Untitled2.ipynb",
      "provenance": [],
      "authorship_tag": "ABX9TyOPmaCg+3k5aJf1gF63F5YS",
      "include_colab_link": true
    },
    "kernelspec": {
      "name": "python3",
      "display_name": "Python 3"
    }
  },
  "cells": [
    {
      "cell_type": "markdown",
      "metadata": {
        "id": "view-in-github",
        "colab_type": "text"
      },
      "source": [
        "<a href=\"https://colab.research.google.com/github/kirti311/letsupgrade-batch7/blob/master/assignment%201.ipynb\" target=\"_parent\"><img src=\"https://colab.research.google.com/assets/colab-badge.svg\" alt=\"Open In Colab\"/></a>"
      ]
    },
    {
      "cell_type": "code",
      "metadata": {
        "id": "U2WUqtRAXaNY",
        "colab_type": "code",
        "colab": {
          "base_uri": "https://localhost:8080/",
          "height": 51
        },
        "outputId": "b5cd62de-7e4f-4067-d7b4-b9c4f75326ea"
      },
      "source": [
        "A = int(input(\"enter the altitude in ft -\"))\n",
        "if (A <= 1000):\n",
        "    print(\"safe to land\")\n",
        "elif (A <= 5000):\n",
        "     print(\"bring down to 1000 ft \")\n",
        "else:\n",
        "     print(\"turn around\")"
      ],
      "execution_count": 14,
      "outputs": [
        {
          "output_type": "stream",
          "text": [
            "enter the altitude in ft -8000\n",
            "turn around\n"
          ],
          "name": "stdout"
        }
      ]
    }
  ]
}